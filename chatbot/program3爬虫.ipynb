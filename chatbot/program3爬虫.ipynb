{
 "cells": [
  {
   "cell_type": "code",
   "execution_count": 42,
   "metadata": {},
   "outputs": [],
   "source": [
    "#qa='E:/WeChat Files/lxx959595/FileStorage/File/2020-02/qa_corpus.csv'"
   ]
  },
  {
   "cell_type": "code",
   "execution_count": 43,
   "metadata": {},
   "outputs": [],
   "source": [
    "#import pandas as pd"
   ]
  },
  {
   "cell_type": "code",
   "execution_count": 44,
   "metadata": {},
   "outputs": [],
   "source": [
    "#QA=pd.read_csv(qa,encoding='utf-8')"
   ]
  },
  {
   "cell_type": "code",
   "execution_count": 45,
   "metadata": {},
   "outputs": [],
   "source": [
    "#QA"
   ]
  },
  {
   "cell_type": "code",
   "execution_count": 1,
   "metadata": {},
   "outputs": [],
   "source": [
    "import requests\n",
    "from lxml import etree\n",
    "import jieba\n",
    "import re\n",
    "import sys,time\n",
    "import os"
   ]
  },
  {
   "cell_type": "code",
   "execution_count": 2,
   "metadata": {},
   "outputs": [],
   "source": [
    "def print_one_by_one(text):\n",
    "    sys.stdout.write(\"\\r \" + \" \" * 60 + \"\\r\") # /r 光标回到行首\n",
    "    sys.stdout.flush() #把缓冲区全部输出\n",
    "    for c in text:\n",
    "        sys.stdout.write(c)\n",
    "        sys.stdout.flush()\n",
    "        time.sleep(0.1)"
   ]
  },
  {
   "cell_type": "code",
   "execution_count": 4,
   "metadata": {},
   "outputs": [],
   "source": [
    "stop = [line.strip() for line in open('C:\\\\Users\\\\yihua\\\\学习\\\\开课吧NLP_course\\\\my\\\\Project01\\\\content\\\\stopwords.txt',encoding='utf-8').readlines() ]"
   ]
  },
  {
   "cell_type": "code",
   "execution_count": 23,
   "metadata": {},
   "outputs": [
    {
     "name": "stdout",
     "output_type": "stream",
     "text": [
      "小智：您好，请问您需要问什么呢(对话（快，慢），可控制输出速度)\n",
      "我：生命要去向何方？\n"
     ]
    }
   ],
   "source": [
    "print(\"小智：您好，请问您需要问什么呢(对话（快，慢），可控制输出速度)\")\n",
    "input_word=input(\"我：\")"
   ]
  },
  {
   "cell_type": "code",
   "execution_count": 24,
   "metadata": {},
   "outputs": [
    {
     "name": "stdout",
     "output_type": "stream",
     "text": [
      "生命要去向何方？\n"
     ]
    }
   ],
   "source": [
    "#默认为慢速\n",
    "print(input_word)\n",
    "if input_word == \"快\":\n",
    "        f = open(\"1.txt\", \"w\")\n",
    "        f.write(\"0\")\n",
    "        f.close()\n",
    "elif input_word =='慢':\n",
    "        f = open(\"1.txt\", \"w\")\n",
    "        f.write(\"1\")\n",
    "        f.close()"
   ]
  },
  {
   "cell_type": "code",
   "execution_count": 25,
   "metadata": {},
   "outputs": [
    {
     "name": "stdout",
     "output_type": "stream",
     "text": [
      "生命\n",
      "要\n",
      "去向\n",
      "何方\n",
      "？\n"
     ]
    }
   ],
   "source": [
    "sd=jieba.cut(input_word,cut_all=False)\n",
    "final=''\n",
    "for seg in sd:\n",
    "    #去停用词\n",
    "        print(seg)\n",
    "        if seg not in stop :\n",
    "            final +=seg\n",
    "process=final"
   ]
  },
  {
   "cell_type": "code",
   "execution_count": 26,
   "metadata": {},
   "outputs": [],
   "source": [
    "#匹配问后面全部内容\n",
    "pat=re.compile(r'(.*?)问(.*)')\n",
    "#一个“问”时的处理\n",
    "try:\n",
    "        rel=pat.findall(final)\n",
    "        process=rel[0][1]\n",
    "except:\n",
    "        pass"
   ]
  },
  {
   "cell_type": "code",
   "execution_count": 27,
   "metadata": {},
   "outputs": [],
   "source": [
    "#两个问时的处理\n",
    "try:\n",
    "        rel=pat.findall(final)\n",
    "        rel0=rel[0][1]\n",
    "        print(rel0)\n",
    "        rel1=pat.findall(rel0)\n",
    "        process=rel1[0][1]\n",
    "except:\n",
    "        pass"
   ]
  },
  {
   "cell_type": "code",
   "execution_count": 28,
   "metadata": {},
   "outputs": [
    {
     "name": "stdout",
     "output_type": "stream",
     "text": [
      "问题：生命要去向何方\n"
     ]
    }
   ],
   "source": [
    "print(\"问题：\"+process)\n",
    "if process=='':\n",
    "        print(\"小智：OK\")"
   ]
  },
  {
   "cell_type": "code",
   "execution_count": 29,
   "metadata": {},
   "outputs": [],
   "source": [
    "user_agent = 'Mozilla/5.0 (Windows NT 6.1; WOW64) AppleWebKit/537.36 (KHTML, like Gecko) Chrome/63.0.3239.132 Safari/537.36' #查询浏览器的UA\n",
    "headers = {'User-Agent': user_agent}  #headers作用：伪装成浏览器进行抓取"
   ]
  },
  {
   "cell_type": "code",
   "execution_count": 30,
   "metadata": {},
   "outputs": [],
   "source": [
    "url = requests.get(\"https://baike.baidu.com/search/word?word=\"+process,headers=headers)"
   ]
  },
  {
   "cell_type": "code",
   "execution_count": 31,
   "metadata": {},
   "outputs": [],
   "source": [
    "#为了防止中文乱码，编码使用原网页编码\n",
    "url.raise_for_status()\n",
    "url.encoding = url.apparent_encoding"
   ]
  },
  {
   "cell_type": "code",
   "execution_count": 32,
   "metadata": {},
   "outputs": [],
   "source": [
    "object=etree.HTML(url.text)    #正则匹配搜索出来答案的所有网址\n",
    "#print(object)"
   ]
  },
  {
   "cell_type": "code",
   "execution_count": 33,
   "metadata": {},
   "outputs": [],
   "source": [
    "#获取词条\n",
    "head =object.xpath('/html/head//meta[@name=\"description\"]/@content')\n",
    "#详细内容\n",
    "para=object.xpath('/html/body//div[@class=\"para\"]/text()')"
   ]
  },
  {
   "cell_type": "code",
   "execution_count": 34,
   "metadata": {},
   "outputs": [
    {
     "data": {
      "text/plain": [
       "''"
      ]
     },
     "execution_count": 34,
     "metadata": {},
     "output_type": "execute_result"
    }
   ],
   "source": [
    "\"\".join(para)"
   ]
  },
  {
   "cell_type": "code",
   "execution_count": null,
   "metadata": {},
   "outputs": [],
   "source": []
  },
  {
   "cell_type": "code",
   "execution_count": null,
   "metadata": {},
   "outputs": [],
   "source": []
  }
 ],
 "metadata": {
  "kernelspec": {
   "display_name": "Python 3",
   "language": "python",
   "name": "python3"
  },
  "language_info": {
   "codemirror_mode": {
    "name": "ipython",
    "version": 3
   },
   "file_extension": ".py",
   "mimetype": "text/x-python",
   "name": "python",
   "nbconvert_exporter": "python",
   "pygments_lexer": "ipython3",
   "version": "3.7.3"
  }
 },
 "nbformat": 4,
 "nbformat_minor": 2
}
